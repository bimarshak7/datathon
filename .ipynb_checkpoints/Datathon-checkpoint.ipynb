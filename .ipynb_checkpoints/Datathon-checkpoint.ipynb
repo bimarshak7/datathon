{
 "cells": [
  {
   "cell_type": "markdown",
   "id": "94f0acbc-7c00-403f-8f3c-95627145ac6f",
   "metadata": {},
   "source": [
    "## TechParva - Datathon\n",
    "## Team SegFault"
   ]
  },
  {
   "cell_type": "code",
   "execution_count": 2,
   "id": "ab812278-9648-4ecd-83c4-ebb7118d5b34",
   "metadata": {},
   "outputs": [],
   "source": [
    "import numpy as np\n",
    "import matplotlib as plt\n",
    "import pandas as pd\n",
    "import seaborn as sb"
   ]
  },
  {
   "cell_type": "code",
   "execution_count": 12,
   "id": "380fee9c-3663-4304-833b-e562dbf2e865",
   "metadata": {},
   "outputs": [],
   "source": [
    "!wget https://raw.githubusercontent.com/bimarshak7/my_nepal/master/my_nepal.csv -q -O dataset/my_nepal.csv "
   ]
  },
  {
   "cell_type": "markdown",
   "id": "ccdfaa60-e54e-41fc-a7ed-3e5bff7b722d",
   "metadata": {},
   "source": [
    "##### total_voters = pd.read_csv(\"dataset/total_voters.csv\")\n",
    "total_voters"
   ]
  },
  {
   "cell_type": "markdown",
   "id": "36cf4a80-6d6e-4fb8-a329-df6ff810c3d0",
   "metadata": {},
   "source": [
    "Oops! There are only 77 district in Nepal, but data shows.\n",
    "\n",
    "!!! Duplicate data alert"
   ]
  },
  {
   "cell_type": "code",
   "execution_count": 14,
   "id": "a9a49f4d-400e-4727-9f71-efdb51ec0ccc",
   "metadata": {},
   "outputs": [
    {
     "data": {
      "text/plain": [
       "District        0\n",
       "Male            0\n",
       "Female          0\n",
       "Third Gender    0\n",
       "Total           0\n",
       "dtype: int64"
      ]
     },
     "execution_count": 14,
     "metadata": {},
     "output_type": "execute_result"
    }
   ],
   "source": [
    "total_voters.isna().sum()"
   ]
  },
  {
   "cell_type": "code",
   "execution_count": 18,
   "id": "761075a5-350b-4fa9-9ead-8b622012e6e2",
   "metadata": {},
   "outputs": [
    {
     "data": {
      "text/html": [
       "<div>\n",
       "<style scoped>\n",
       "    .dataframe tbody tr th:only-of-type {\n",
       "        vertical-align: middle;\n",
       "    }\n",
       "\n",
       "    .dataframe tbody tr th {\n",
       "        vertical-align: top;\n",
       "    }\n",
       "\n",
       "    .dataframe thead th {\n",
       "        text-align: right;\n",
       "    }\n",
       "</style>\n",
       "<table border=\"1\" class=\"dataframe\">\n",
       "  <thead>\n",
       "    <tr style=\"text-align: right;\">\n",
       "      <th></th>\n",
       "      <th>District</th>\n",
       "      <th>Male</th>\n",
       "      <th>Female</th>\n",
       "      <th>Third Gender</th>\n",
       "      <th>Total</th>\n",
       "    </tr>\n",
       "  </thead>\n",
       "  <tbody>\n",
       "    <tr>\n",
       "      <th>28</th>\n",
       "      <td>Jajarkot</td>\n",
       "      <td>42410</td>\n",
       "      <td>36536</td>\n",
       "      <td>1</td>\n",
       "      <td>????</td>\n",
       "    </tr>\n",
       "    <tr>\n",
       "      <th>29</th>\n",
       "      <td>Jajarkot</td>\n",
       "      <td>42410</td>\n",
       "      <td>36536</td>\n",
       "      <td>1</td>\n",
       "      <td>????</td>\n",
       "    </tr>\n",
       "    <tr>\n",
       "      <th>50</th>\n",
       "      <td>Nawalparasi (East)</td>\n",
       "      <td>80316</td>\n",
       "      <td>89570</td>\n",
       "      <td>4</td>\n",
       "      <td>2212111</td>\n",
       "    </tr>\n",
       "    <tr>\n",
       "      <th>75</th>\n",
       "      <td>Tanahu</td>\n",
       "      <td>90144</td>\n",
       "      <td>3104327</td>\n",
       "      <td>0</td>\n",
       "      <td>194471</td>\n",
       "    </tr>\n",
       "  </tbody>\n",
       "</table>\n",
       "</div>"
      ],
      "text/plain": [
       "              District   Male   Female  Third Gender     Total\n",
       "28            Jajarkot  42410    36536             1      ????\n",
       "29            Jajarkot  42410    36536             1      ????\n",
       "50  Nawalparasi (East)  80316    89570             4   2212111\n",
       "75              Tanahu  90144  3104327             0    194471"
      ]
     },
     "execution_count": 18,
     "metadata": {},
     "output_type": "execute_result"
    }
   ],
   "source": [
    "dupli = total_voters[total_voters.duplicated(['District'])]\n",
    "dupli"
   ]
  },
  {
   "cell_type": "markdown",
   "id": "89a6a3de-a9e8-4203-aa88-a6921b80a307",
   "metadata": {},
   "source": [
    "Jajarkot district is mentioned twice"
   ]
  },
  {
   "cell_type": "code",
   "execution_count": 16,
   "id": "98432574-9a79-4b11-890a-693b83f330d5",
   "metadata": {},
   "outputs": [
    {
     "data": {
      "text/html": [
       "<div>\n",
       "<style scoped>\n",
       "    .dataframe tbody tr th:only-of-type {\n",
       "        vertical-align: middle;\n",
       "    }\n",
       "\n",
       "    .dataframe tbody tr th {\n",
       "        vertical-align: top;\n",
       "    }\n",
       "\n",
       "    .dataframe thead th {\n",
       "        text-align: right;\n",
       "    }\n",
       "</style>\n",
       "<table border=\"1\" class=\"dataframe\">\n",
       "  <thead>\n",
       "    <tr style=\"text-align: right;\">\n",
       "      <th></th>\n",
       "      <th>Province</th>\n",
       "      <th>District</th>\n",
       "      <th>District code</th>\n",
       "      <th>X</th>\n",
       "      <th>Y</th>\n",
       "    </tr>\n",
       "  </thead>\n",
       "  <tbody>\n",
       "    <tr>\n",
       "      <th>0</th>\n",
       "      <td>PROVINCE 1</td>\n",
       "      <td>Taplejung</td>\n",
       "      <td>101</td>\n",
       "      <td>87.7763</td>\n",
       "      <td>27.6257</td>\n",
       "    </tr>\n",
       "    <tr>\n",
       "      <th>1</th>\n",
       "      <td>PROVINCE 1</td>\n",
       "      <td>Sankhuwasabha</td>\n",
       "      <td>102</td>\n",
       "      <td>87.1423</td>\n",
       "      <td>27.6142</td>\n",
       "    </tr>\n",
       "    <tr>\n",
       "      <th>2</th>\n",
       "      <td>PROVINCE 1</td>\n",
       "      <td>Solukhumbu</td>\n",
       "      <td>103</td>\n",
       "      <td>86.6611</td>\n",
       "      <td>27.7910</td>\n",
       "    </tr>\n",
       "    <tr>\n",
       "      <th>3</th>\n",
       "      <td>PROVINCE 1</td>\n",
       "      <td>Okhaldhunga</td>\n",
       "      <td>104</td>\n",
       "      <td>86.5047</td>\n",
       "      <td>27.3240</td>\n",
       "    </tr>\n",
       "    <tr>\n",
       "      <th>4</th>\n",
       "      <td>PROVINCE 1</td>\n",
       "      <td>Khotang</td>\n",
       "      <td>105</td>\n",
       "      <td>86.8220</td>\n",
       "      <td>27.2317</td>\n",
       "    </tr>\n",
       "    <tr>\n",
       "      <th>...</th>\n",
       "      <td>...</td>\n",
       "      <td>...</td>\n",
       "      <td>...</td>\n",
       "      <td>...</td>\n",
       "      <td>...</td>\n",
       "    </tr>\n",
       "    <tr>\n",
       "      <th>72</th>\n",
       "      <td>SUDURPASHCHIM</td>\n",
       "      <td>Dadeldhura</td>\n",
       "      <td>705</td>\n",
       "      <td>80.4994</td>\n",
       "      <td>29.2188</td>\n",
       "    </tr>\n",
       "    <tr>\n",
       "      <th>73</th>\n",
       "      <td>SUDURPASHCHIM</td>\n",
       "      <td>Doti</td>\n",
       "      <td>706</td>\n",
       "      <td>80.8987</td>\n",
       "      <td>29.2006</td>\n",
       "    </tr>\n",
       "    <tr>\n",
       "      <th>74</th>\n",
       "      <td>SUDURPASHCHIM</td>\n",
       "      <td>Achham</td>\n",
       "      <td>707</td>\n",
       "      <td>81.2519</td>\n",
       "      <td>29.0396</td>\n",
       "    </tr>\n",
       "    <tr>\n",
       "      <th>75</th>\n",
       "      <td>SUDURPASHCHIM</td>\n",
       "      <td>Kailali</td>\n",
       "      <td>708</td>\n",
       "      <td>80.8092</td>\n",
       "      <td>28.7413</td>\n",
       "    </tr>\n",
       "    <tr>\n",
       "      <th>76</th>\n",
       "      <td>SUDURPASHCHIM</td>\n",
       "      <td>Kanchanpur</td>\n",
       "      <td>709</td>\n",
       "      <td>80.3213</td>\n",
       "      <td>28.8372</td>\n",
       "    </tr>\n",
       "  </tbody>\n",
       "</table>\n",
       "<p>77 rows × 5 columns</p>\n",
       "</div>"
      ],
      "text/plain": [
       "         Province       District  District code        X        Y\n",
       "0      PROVINCE 1      Taplejung            101  87.7763  27.6257\n",
       "1      PROVINCE 1  Sankhuwasabha            102  87.1423  27.6142\n",
       "2      PROVINCE 1     Solukhumbu            103  86.6611  27.7910\n",
       "3      PROVINCE 1    Okhaldhunga            104  86.5047  27.3240\n",
       "4      PROVINCE 1        Khotang            105  86.8220  27.2317\n",
       "..            ...            ...            ...      ...      ...\n",
       "72  SUDURPASHCHIM     Dadeldhura            705  80.4994  29.2188\n",
       "73  SUDURPASHCHIM           Doti            706  80.8987  29.2006\n",
       "74  SUDURPASHCHIM         Achham            707  81.2519  29.0396\n",
       "75  SUDURPASHCHIM        Kailali            708  80.8092  28.7413\n",
       "76  SUDURPASHCHIM     Kanchanpur            709  80.3213  28.8372\n",
       "\n",
       "[77 rows x 5 columns]"
      ]
     },
     "execution_count": 16,
     "metadata": {},
     "output_type": "execute_result"
    }
   ],
   "source": [
    "province = pd.read_csv(\"dataset/my_nepal.csv\")\n",
    "province"
   ]
  },
  {
   "cell_type": "code",
   "execution_count": null,
   "id": "4cea5fff-31e2-43df-abfe-e9b8b852c7c9",
   "metadata": {},
   "outputs": [],
   "source": []
  }
 ],
 "metadata": {
  "kernelspec": {
   "display_name": "Python 3 (ipykernel)",
   "language": "python",
   "name": "python3"
  },
  "language_info": {
   "codemirror_mode": {
    "name": "ipython",
    "version": 3
   },
   "file_extension": ".py",
   "mimetype": "text/x-python",
   "name": "python",
   "nbconvert_exporter": "python",
   "pygments_lexer": "ipython3",
   "version": "3.10.8"
  }
 },
 "nbformat": 4,
 "nbformat_minor": 5
}
