{
 "cells": [
  {
   "cell_type": "markdown",
   "id": "94f0acbc-7c00-403f-8f3c-95627145ac6f",
   "metadata": {},
   "source": [
    "## TechParva - Datathon\n",
    "## Team SegFault"
   ]
  },
  {
   "cell_type": "code",
   "execution_count": 45,
   "id": "ab812278-9648-4ecd-83c4-ebb7118d5b34",
   "metadata": {},
   "outputs": [],
   "source": [
    "import numpy as np\n",
    "import matplotlib.pyplot as plt\n",
    "import pandas as pd\n",
    "import seaborn as sb"
   ]
  },
  {
   "cell_type": "code",
   "execution_count": 39,
   "id": "c651b438-1402-430b-bba4-256e18942d7d",
   "metadata": {},
   "outputs": [],
   "source": [
    "plt.style.use('fivethirtyeight')"
   ]
  },
  {
   "cell_type": "code",
   "execution_count": 12,
   "id": "380fee9c-3663-4304-833b-e562dbf2e865",
   "metadata": {},
   "outputs": [],
   "source": [
    "!wget https://raw.githubusercontent.com/bimarshak7/my_nepal/master/my_nepal.csv -q -O dataset/my_nepal.csv "
   ]
  },
  {
   "cell_type": "code",
   "execution_count": 19,
   "id": "53edff70-ba5d-4a06-8c1e-10f24c20a324",
   "metadata": {},
   "outputs": [
    {
     "data": {
      "text/html": [
       "<div>\n",
       "<style scoped>\n",
       "    .dataframe tbody tr th:only-of-type {\n",
       "        vertical-align: middle;\n",
       "    }\n",
       "\n",
       "    .dataframe tbody tr th {\n",
       "        vertical-align: top;\n",
       "    }\n",
       "\n",
       "    .dataframe thead th {\n",
       "        text-align: right;\n",
       "    }\n",
       "</style>\n",
       "<table border=\"1\" class=\"dataframe\">\n",
       "  <thead>\n",
       "    <tr style=\"text-align: right;\">\n",
       "      <th></th>\n",
       "      <th>District</th>\n",
       "      <th>Male</th>\n",
       "      <th>Female</th>\n",
       "      <th>Third Gender</th>\n",
       "      <th>Total</th>\n",
       "    </tr>\n",
       "  </thead>\n",
       "  <tbody>\n",
       "    <tr>\n",
       "      <th>0</th>\n",
       "      <td>Achham</td>\n",
       "      <td>60441</td>\n",
       "      <td>67299</td>\n",
       "      <td>2</td>\n",
       "      <td>127742</td>\n",
       "    </tr>\n",
       "    <tr>\n",
       "      <th>1</th>\n",
       "      <td>Arghakhanchi</td>\n",
       "      <td>60296</td>\n",
       "      <td>66403</td>\n",
       "      <td>0</td>\n",
       "      <td>126699</td>\n",
       "    </tr>\n",
       "    <tr>\n",
       "      <th>2</th>\n",
       "      <td>Baglung</td>\n",
       "      <td>73963</td>\n",
       "      <td>82839</td>\n",
       "      <td>0</td>\n",
       "      <td>156802</td>\n",
       "    </tr>\n",
       "    <tr>\n",
       "      <th>3</th>\n",
       "      <td>Baitadi</td>\n",
       "      <td>60227</td>\n",
       "      <td>64596</td>\n",
       "      <td>1</td>\n",
       "      <td>124824</td>\n",
       "    </tr>\n",
       "    <tr>\n",
       "      <th>4</th>\n",
       "      <td>Bajhang</td>\n",
       "      <td>47888</td>\n",
       "      <td>49721</td>\n",
       "      <td>1</td>\n",
       "      <td>97610</td>\n",
       "    </tr>\n",
       "    <tr>\n",
       "      <th>...</th>\n",
       "      <td>...</td>\n",
       "      <td>...</td>\n",
       "      <td>...</td>\n",
       "      <td>...</td>\n",
       "      <td>...</td>\n",
       "    </tr>\n",
       "    <tr>\n",
       "      <th>75</th>\n",
       "      <td>Tanahu</td>\n",
       "      <td>90144</td>\n",
       "      <td>3104327</td>\n",
       "      <td>0</td>\n",
       "      <td>194471</td>\n",
       "    </tr>\n",
       "    <tr>\n",
       "      <th>76</th>\n",
       "      <td>Taplejung</td>\n",
       "      <td>37187</td>\n",
       "      <td>33591</td>\n",
       "      <td>0</td>\n",
       "      <td>70778</td>\n",
       "    </tr>\n",
       "    <tr>\n",
       "      <th>77</th>\n",
       "      <td>Terhathum</td>\n",
       "      <td>30334</td>\n",
       "      <td>30370</td>\n",
       "      <td>0</td>\n",
       "      <td>60704</td>\n",
       "    </tr>\n",
       "    <tr>\n",
       "      <th>78</th>\n",
       "      <td>Udayapur</td>\n",
       "      <td>88510</td>\n",
       "      <td>86951</td>\n",
       "      <td>0</td>\n",
       "      <td>175461</td>\n",
       "    </tr>\n",
       "    <tr>\n",
       "      <th>79</th>\n",
       "      <td>Total</td>\n",
       "      <td>7069714</td>\n",
       "      <td>6984625</td>\n",
       "      <td>143</td>\n",
       "      <td>14054482</td>\n",
       "    </tr>\n",
       "  </tbody>\n",
       "</table>\n",
       "<p>80 rows × 5 columns</p>\n",
       "</div>"
      ],
      "text/plain": [
       "        District     Male   Female  Third Gender     Total\n",
       "0         Achham    60441    67299             2    127742\n",
       "1   Arghakhanchi    60296    66403             0    126699\n",
       "2        Baglung    73963    82839             0    156802\n",
       "3        Baitadi    60227    64596             1    124824\n",
       "4        Bajhang    47888    49721             1     97610\n",
       "..           ...      ...      ...           ...       ...\n",
       "75        Tanahu    90144  3104327             0    194471\n",
       "76     Taplejung    37187    33591             0     70778\n",
       "77     Terhathum    30334    30370             0     60704\n",
       "78      Udayapur    88510    86951             0    175461\n",
       "79         Total  7069714  6984625           143  14054482\n",
       "\n",
       "[80 rows x 5 columns]"
      ]
     },
     "execution_count": 19,
     "metadata": {},
     "output_type": "execute_result"
    }
   ],
   "source": [
    "total_voters = pd.read_csv(\"dataset/total_voters.csv\")\n",
    "total_voters"
   ]
  },
  {
   "cell_type": "markdown",
   "id": "36cf4a80-6d6e-4fb8-a329-df6ff810c3d0",
   "metadata": {},
   "source": [
    "Oops! There are only 77 district in Nepal, but data shows.\n",
    "\n",
    "!!! Duplicate data alert"
   ]
  },
  {
   "cell_type": "code",
   "execution_count": 21,
   "id": "770ff8cb-5c09-4cda-9189-0fcdbc4c809e",
   "metadata": {},
   "outputs": [
    {
     "name": "stdout",
     "output_type": "stream",
     "text": [
      "<class 'pandas.core.frame.DataFrame'>\n",
      "RangeIndex: 80 entries, 0 to 79\n",
      "Data columns (total 5 columns):\n",
      " #   Column        Non-Null Count  Dtype \n",
      "---  ------        --------------  ----- \n",
      " 0   District      80 non-null     object\n",
      " 1   Male          80 non-null     int64 \n",
      " 2   Female        80 non-null     int64 \n",
      " 3   Third Gender  80 non-null     int64 \n",
      " 4   Total         80 non-null     object\n",
      "dtypes: int64(3), object(2)\n",
      "memory usage: 3.2+ KB\n"
     ]
    }
   ],
   "source": [
    "total_voters.info()"
   ]
  },
  {
   "cell_type": "code",
   "execution_count": 22,
   "id": "4470af92-05b9-41b6-9025-a99d15b96678",
   "metadata": {},
   "outputs": [],
   "source": [
    "# Total should be integer but object xa hya, so some missing values"
   ]
  },
  {
   "cell_type": "code",
   "execution_count": null,
   "id": "009c92a1-0f5b-4440-a951-0b00388e014a",
   "metadata": {},
   "outputs": [],
   "source": [
    "df[]"
   ]
  },
  {
   "cell_type": "code",
   "execution_count": 23,
   "id": "a9a49f4d-400e-4727-9f71-efdb51ec0ccc",
   "metadata": {},
   "outputs": [
    {
     "data": {
      "text/plain": [
       "District        0\n",
       "Male            0\n",
       "Female          0\n",
       "Third Gender    0\n",
       "Total           0\n",
       "dtype: int64"
      ]
     },
     "execution_count": 23,
     "metadata": {},
     "output_type": "execute_result"
    }
   ],
   "source": [
    "total_voters.isna().sum()"
   ]
  },
  {
   "cell_type": "code",
   "execution_count": 24,
   "id": "761075a5-350b-4fa9-9ead-8b622012e6e2",
   "metadata": {},
   "outputs": [
    {
     "data": {
      "text/html": [
       "<div>\n",
       "<style scoped>\n",
       "    .dataframe tbody tr th:only-of-type {\n",
       "        vertical-align: middle;\n",
       "    }\n",
       "\n",
       "    .dataframe tbody tr th {\n",
       "        vertical-align: top;\n",
       "    }\n",
       "\n",
       "    .dataframe thead th {\n",
       "        text-align: right;\n",
       "    }\n",
       "</style>\n",
       "<table border=\"1\" class=\"dataframe\">\n",
       "  <thead>\n",
       "    <tr style=\"text-align: right;\">\n",
       "      <th></th>\n",
       "      <th>District</th>\n",
       "      <th>Male</th>\n",
       "      <th>Female</th>\n",
       "      <th>Third Gender</th>\n",
       "      <th>Total</th>\n",
       "    </tr>\n",
       "  </thead>\n",
       "  <tbody>\n",
       "    <tr>\n",
       "      <th>28</th>\n",
       "      <td>Jajarkot</td>\n",
       "      <td>42410</td>\n",
       "      <td>36536</td>\n",
       "      <td>1</td>\n",
       "      <td>????</td>\n",
       "    </tr>\n",
       "    <tr>\n",
       "      <th>29</th>\n",
       "      <td>Jajarkot</td>\n",
       "      <td>42410</td>\n",
       "      <td>36536</td>\n",
       "      <td>1</td>\n",
       "      <td>????</td>\n",
       "    </tr>\n",
       "    <tr>\n",
       "      <th>50</th>\n",
       "      <td>Nawalparasi (East)</td>\n",
       "      <td>80316</td>\n",
       "      <td>89570</td>\n",
       "      <td>4</td>\n",
       "      <td>2212111</td>\n",
       "    </tr>\n",
       "    <tr>\n",
       "      <th>75</th>\n",
       "      <td>Tanahu</td>\n",
       "      <td>90144</td>\n",
       "      <td>3104327</td>\n",
       "      <td>0</td>\n",
       "      <td>194471</td>\n",
       "    </tr>\n",
       "  </tbody>\n",
       "</table>\n",
       "</div>"
      ],
      "text/plain": [
       "              District   Male   Female  Third Gender     Total\n",
       "28            Jajarkot  42410    36536             1      ????\n",
       "29            Jajarkot  42410    36536             1      ????\n",
       "50  Nawalparasi (East)  80316    89570             4   2212111\n",
       "75              Tanahu  90144  3104327             0    194471"
      ]
     },
     "execution_count": 24,
     "metadata": {},
     "output_type": "execute_result"
    }
   ],
   "source": [
    "dupli_voters = total_voters[total_voters.duplicated(['District'])]\n",
    "dupli_voters"
   ]
  },
  {
   "cell_type": "code",
   "execution_count": 30,
   "id": "06236d41-7796-4475-84a1-255a6c6ecccd",
   "metadata": {},
   "outputs": [
    {
     "data": {
      "text/plain": [
       "(77, 5)"
      ]
     },
     "execution_count": 30,
     "metadata": {},
     "output_type": "execute_result"
    }
   ],
   "source": [
    "total_voters = total_voters.drop_duplicates(keep=\"first\")\n",
    "total_voters.shape"
   ]
  },
  {
   "cell_type": "code",
   "execution_count": 33,
   "id": "8bc36428-c730-4323-9af3-f6a0364bc83f",
   "metadata": {},
   "outputs": [],
   "source": [
    "# total ma chai misijng values xa, male+female ko toal..."
   ]
  },
  {
   "cell_type": "code",
   "execution_count": 34,
   "id": "8273747a-9432-44a4-8e68-9f8291f01c4c",
   "metadata": {},
   "outputs": [],
   "source": [
    "total_voters['Total'] = total_voters['Male'] + total_voters['Female'] "
   ]
  },
  {
   "cell_type": "code",
   "execution_count": 32,
   "id": "a94a5748-41a5-4fb0-a0a5-c4df5ddc37b8",
   "metadata": {},
   "outputs": [
    {
     "name": "stdout",
     "output_type": "stream",
     "text": [
      "<class 'pandas.core.frame.DataFrame'>\n",
      "Int64Index: 77 entries, 0 to 79\n",
      "Data columns (total 5 columns):\n",
      " #   Column        Non-Null Count  Dtype \n",
      "---  ------        --------------  ----- \n",
      " 0   District      77 non-null     object\n",
      " 1   Male          77 non-null     int64 \n",
      " 2   Female        77 non-null     int64 \n",
      " 3   Third Gender  77 non-null     int64 \n",
      " 4   Total         77 non-null     int64 \n",
      "dtypes: int64(4), object(1)\n",
      "memory usage: 3.6+ KB\n"
     ]
    }
   ],
   "source": [
    "total_voters.info()"
   ]
  },
  {
   "cell_type": "code",
   "execution_count": 35,
   "id": "98432574-9a79-4b11-890a-693b83f330d5",
   "metadata": {},
   "outputs": [
    {
     "data": {
      "text/html": [
       "<div>\n",
       "<style scoped>\n",
       "    .dataframe tbody tr th:only-of-type {\n",
       "        vertical-align: middle;\n",
       "    }\n",
       "\n",
       "    .dataframe tbody tr th {\n",
       "        vertical-align: top;\n",
       "    }\n",
       "\n",
       "    .dataframe thead th {\n",
       "        text-align: right;\n",
       "    }\n",
       "</style>\n",
       "<table border=\"1\" class=\"dataframe\">\n",
       "  <thead>\n",
       "    <tr style=\"text-align: right;\">\n",
       "      <th></th>\n",
       "      <th>Province</th>\n",
       "      <th>District</th>\n",
       "    </tr>\n",
       "  </thead>\n",
       "  <tbody>\n",
       "    <tr>\n",
       "      <th>0</th>\n",
       "      <td>PROVINCE 1</td>\n",
       "      <td>Taplejung</td>\n",
       "    </tr>\n",
       "    <tr>\n",
       "      <th>1</th>\n",
       "      <td>PROVINCE 1</td>\n",
       "      <td>Sankhuwasabha</td>\n",
       "    </tr>\n",
       "    <tr>\n",
       "      <th>2</th>\n",
       "      <td>PROVINCE 1</td>\n",
       "      <td>Solukhumbu</td>\n",
       "    </tr>\n",
       "    <tr>\n",
       "      <th>3</th>\n",
       "      <td>PROVINCE 1</td>\n",
       "      <td>Okhaldhunga</td>\n",
       "    </tr>\n",
       "    <tr>\n",
       "      <th>4</th>\n",
       "      <td>PROVINCE 1</td>\n",
       "      <td>Khotang</td>\n",
       "    </tr>\n",
       "    <tr>\n",
       "      <th>...</th>\n",
       "      <td>...</td>\n",
       "      <td>...</td>\n",
       "    </tr>\n",
       "    <tr>\n",
       "      <th>72</th>\n",
       "      <td>SUDURPASHCHIM</td>\n",
       "      <td>Dadeldhura</td>\n",
       "    </tr>\n",
       "    <tr>\n",
       "      <th>73</th>\n",
       "      <td>SUDURPASHCHIM</td>\n",
       "      <td>Doti</td>\n",
       "    </tr>\n",
       "    <tr>\n",
       "      <th>74</th>\n",
       "      <td>SUDURPASHCHIM</td>\n",
       "      <td>Achham</td>\n",
       "    </tr>\n",
       "    <tr>\n",
       "      <th>75</th>\n",
       "      <td>SUDURPASHCHIM</td>\n",
       "      <td>Kailali</td>\n",
       "    </tr>\n",
       "    <tr>\n",
       "      <th>76</th>\n",
       "      <td>SUDURPASHCHIM</td>\n",
       "      <td>Kanchanpur</td>\n",
       "    </tr>\n",
       "  </tbody>\n",
       "</table>\n",
       "<p>77 rows × 2 columns</p>\n",
       "</div>"
      ],
      "text/plain": [
       "         Province       District\n",
       "0      PROVINCE 1      Taplejung\n",
       "1      PROVINCE 1  Sankhuwasabha\n",
       "2      PROVINCE 1     Solukhumbu\n",
       "3      PROVINCE 1    Okhaldhunga\n",
       "4      PROVINCE 1        Khotang\n",
       "..            ...            ...\n",
       "72  SUDURPASHCHIM     Dadeldhura\n",
       "73  SUDURPASHCHIM           Doti\n",
       "74  SUDURPASHCHIM         Achham\n",
       "75  SUDURPASHCHIM        Kailali\n",
       "76  SUDURPASHCHIM     Kanchanpur\n",
       "\n",
       "[77 rows x 2 columns]"
      ]
     },
     "execution_count": 35,
     "metadata": {},
     "output_type": "execute_result"
    }
   ],
   "source": [
    "province = pd.read_csv(\"dataset/my_nepal.csv\")\n",
    "province.drop(['District code', 'X', 'Y'], axis=1, inplace=True)\n",
    "province"
   ]
  },
  {
   "cell_type": "code",
   "execution_count": 37,
   "id": "4cea5fff-31e2-43df-abfe-e9b8b852c7c9",
   "metadata": {},
   "outputs": [
    {
     "data": {
      "text/html": [
       "<div>\n",
       "<style scoped>\n",
       "    .dataframe tbody tr th:only-of-type {\n",
       "        vertical-align: middle;\n",
       "    }\n",
       "\n",
       "    .dataframe tbody tr th {\n",
       "        vertical-align: top;\n",
       "    }\n",
       "\n",
       "    .dataframe thead th {\n",
       "        text-align: right;\n",
       "    }\n",
       "</style>\n",
       "<table border=\"1\" class=\"dataframe\">\n",
       "  <thead>\n",
       "    <tr style=\"text-align: right;\">\n",
       "      <th></th>\n",
       "      <th>District</th>\n",
       "      <th>Male</th>\n",
       "      <th>Female</th>\n",
       "      <th>Third Gender</th>\n",
       "      <th>Total</th>\n",
       "      <th>Province</th>\n",
       "    </tr>\n",
       "  </thead>\n",
       "  <tbody>\n",
       "    <tr>\n",
       "      <th>0</th>\n",
       "      <td>Achham</td>\n",
       "      <td>60441</td>\n",
       "      <td>67299</td>\n",
       "      <td>2</td>\n",
       "      <td>127740</td>\n",
       "      <td>SUDURPASHCHIM</td>\n",
       "    </tr>\n",
       "    <tr>\n",
       "      <th>1</th>\n",
       "      <td>Arghakhanchi</td>\n",
       "      <td>60296</td>\n",
       "      <td>66403</td>\n",
       "      <td>0</td>\n",
       "      <td>126699</td>\n",
       "      <td>PROVINCE 5</td>\n",
       "    </tr>\n",
       "    <tr>\n",
       "      <th>2</th>\n",
       "      <td>Baglung</td>\n",
       "      <td>73963</td>\n",
       "      <td>82839</td>\n",
       "      <td>0</td>\n",
       "      <td>156802</td>\n",
       "      <td>GANDAKI</td>\n",
       "    </tr>\n",
       "    <tr>\n",
       "      <th>3</th>\n",
       "      <td>Baitadi</td>\n",
       "      <td>60227</td>\n",
       "      <td>64596</td>\n",
       "      <td>1</td>\n",
       "      <td>124823</td>\n",
       "      <td>SUDURPASHCHIM</td>\n",
       "    </tr>\n",
       "    <tr>\n",
       "      <th>4</th>\n",
       "      <td>Bajhang</td>\n",
       "      <td>47888</td>\n",
       "      <td>49721</td>\n",
       "      <td>1</td>\n",
       "      <td>97609</td>\n",
       "      <td>SUDURPASHCHIM</td>\n",
       "    </tr>\n",
       "    <tr>\n",
       "      <th>...</th>\n",
       "      <td>...</td>\n",
       "      <td>...</td>\n",
       "      <td>...</td>\n",
       "      <td>...</td>\n",
       "      <td>...</td>\n",
       "      <td>...</td>\n",
       "    </tr>\n",
       "    <tr>\n",
       "      <th>67</th>\n",
       "      <td>Surkhet</td>\n",
       "      <td>89268</td>\n",
       "      <td>95131</td>\n",
       "      <td>0</td>\n",
       "      <td>184399</td>\n",
       "      <td>KARNALI</td>\n",
       "    </tr>\n",
       "    <tr>\n",
       "      <th>68</th>\n",
       "      <td>Syangja</td>\n",
       "      <td>89544</td>\n",
       "      <td>101708</td>\n",
       "      <td>1</td>\n",
       "      <td>191252</td>\n",
       "      <td>GANDAKI</td>\n",
       "    </tr>\n",
       "    <tr>\n",
       "      <th>69</th>\n",
       "      <td>Taplejung</td>\n",
       "      <td>37187</td>\n",
       "      <td>33591</td>\n",
       "      <td>0</td>\n",
       "      <td>70778</td>\n",
       "      <td>PROVINCE 1</td>\n",
       "    </tr>\n",
       "    <tr>\n",
       "      <th>70</th>\n",
       "      <td>Terhathum</td>\n",
       "      <td>30334</td>\n",
       "      <td>30370</td>\n",
       "      <td>0</td>\n",
       "      <td>60704</td>\n",
       "      <td>PROVINCE 1</td>\n",
       "    </tr>\n",
       "    <tr>\n",
       "      <th>71</th>\n",
       "      <td>Udayapur</td>\n",
       "      <td>88510</td>\n",
       "      <td>86951</td>\n",
       "      <td>0</td>\n",
       "      <td>175461</td>\n",
       "      <td>PROVINCE 1</td>\n",
       "    </tr>\n",
       "  </tbody>\n",
       "</table>\n",
       "<p>72 rows × 6 columns</p>\n",
       "</div>"
      ],
      "text/plain": [
       "        District   Male  Female  Third Gender   Total       Province\n",
       "0         Achham  60441   67299             2  127740  SUDURPASHCHIM\n",
       "1   Arghakhanchi  60296   66403             0  126699     PROVINCE 5\n",
       "2        Baglung  73963   82839             0  156802        GANDAKI\n",
       "3        Baitadi  60227   64596             1  124823  SUDURPASHCHIM\n",
       "4        Bajhang  47888   49721             1   97609  SUDURPASHCHIM\n",
       "..           ...    ...     ...           ...     ...            ...\n",
       "67       Surkhet  89268   95131             0  184399        KARNALI\n",
       "68       Syangja  89544  101708             1  191252        GANDAKI\n",
       "69     Taplejung  37187   33591             0   70778     PROVINCE 1\n",
       "70     Terhathum  30334   30370             0   60704     PROVINCE 1\n",
       "71      Udayapur  88510   86951             0  175461     PROVINCE 1\n",
       "\n",
       "[72 rows x 6 columns]"
      ]
     },
     "execution_count": 37,
     "metadata": {},
     "output_type": "execute_result"
    }
   ],
   "source": [
    "merged = pd.merge(total_voters, province, on ='District')\n",
    "merged"
   ]
  },
  {
   "cell_type": "code",
   "execution_count": 53,
   "id": "3935e421-f19e-4487-9602-176f3776c4a0",
   "metadata": {},
   "outputs": [
    {
     "data": {
      "text/html": [
       "<div>\n",
       "<style scoped>\n",
       "    .dataframe tbody tr th:only-of-type {\n",
       "        vertical-align: middle;\n",
       "    }\n",
       "\n",
       "    .dataframe tbody tr th {\n",
       "        vertical-align: top;\n",
       "    }\n",
       "\n",
       "    .dataframe thead th {\n",
       "        text-align: right;\n",
       "    }\n",
       "</style>\n",
       "<table border=\"1\" class=\"dataframe\">\n",
       "  <thead>\n",
       "    <tr style=\"text-align: right;\">\n",
       "      <th></th>\n",
       "      <th>Male</th>\n",
       "      <th>Female</th>\n",
       "      <th>Third Gender</th>\n",
       "      <th>Total</th>\n",
       "    </tr>\n",
       "    <tr>\n",
       "      <th>Province</th>\n",
       "      <th></th>\n",
       "      <th></th>\n",
       "      <th></th>\n",
       "      <th></th>\n",
       "    </tr>\n",
       "  </thead>\n",
       "  <tbody>\n",
       "    <tr>\n",
       "      <th>GANDAKI</th>\n",
       "      <td>488081</td>\n",
       "      <td>539626</td>\n",
       "      <td>8</td>\n",
       "      <td>1027707</td>\n",
       "    </tr>\n",
       "    <tr>\n",
       "      <th>KARNALI</th>\n",
       "      <td>355696</td>\n",
       "      <td>614275</td>\n",
       "      <td>1</td>\n",
       "      <td>969971</td>\n",
       "    </tr>\n",
       "    <tr>\n",
       "      <th>PROVINCE 1</th>\n",
       "      <td>1346942</td>\n",
       "      <td>1327615</td>\n",
       "      <td>7</td>\n",
       "      <td>2674557</td>\n",
       "    </tr>\n",
       "    <tr>\n",
       "      <th>PROVINCE 2</th>\n",
       "      <td>1429935</td>\n",
       "      <td>1234798</td>\n",
       "      <td>59</td>\n",
       "      <td>2664733</td>\n",
       "    </tr>\n",
       "    <tr>\n",
       "      <th>PROVINCE 3</th>\n",
       "      <td>1366103</td>\n",
       "      <td>1394051</td>\n",
       "      <td>28</td>\n",
       "      <td>2760154</td>\n",
       "    </tr>\n",
       "    <tr>\n",
       "      <th>PROVINCE 5</th>\n",
       "      <td>1041325</td>\n",
       "      <td>1119636</td>\n",
       "      <td>17</td>\n",
       "      <td>2160961</td>\n",
       "    </tr>\n",
       "    <tr>\n",
       "      <th>SUDURPASHCHIM</th>\n",
       "      <td>634379</td>\n",
       "      <td>669321</td>\n",
       "      <td>14</td>\n",
       "      <td>1303700</td>\n",
       "    </tr>\n",
       "  </tbody>\n",
       "</table>\n",
       "</div>"
      ],
      "text/plain": [
       "                  Male   Female  Third Gender    Total\n",
       "Province                                              \n",
       "GANDAKI         488081   539626             8  1027707\n",
       "KARNALI         355696   614275             1   969971\n",
       "PROVINCE 1     1346942  1327615             7  2674557\n",
       "PROVINCE 2     1429935  1234798            59  2664733\n",
       "PROVINCE 3     1366103  1394051            28  2760154\n",
       "PROVINCE 5     1041325  1119636            17  2160961\n",
       "SUDURPASHCHIM   634379   669321            14  1303700"
      ]
     },
     "execution_count": 53,
     "metadata": {},
     "output_type": "execute_result"
    }
   ],
   "source": [
    "province_rec = merged.groupby(['Province']).aggregate({'Male':np.sum,'Female':np.sum,'Third Gender':np.sum,'Total':np.sum})\n",
    "province_rec"
   ]
  },
  {
   "cell_type": "code",
   "execution_count": 60,
   "id": "55cb6a8a-25ba-4157-8d63-0b03e048751d",
   "metadata": {},
   "outputs": [],
   "source": [
    "male_tot = province_rec['Male'].sum()\n",
    "female_tot = province_rec['Female'].sum()\n",
    "third_tot = province_rec['Third Gender'].sum()"
   ]
  },
  {
   "cell_type": "code",
   "execution_count": 65,
   "id": "2bde2e40-4526-4689-8de6-a07b599067f0",
   "metadata": {},
   "outputs": [
    {
     "data": {
      "text/plain": [
       "<matplotlib.legend.Legend at 0x7f8d93d1fd30>"
      ]
     },
     "execution_count": 65,
     "metadata": {},
     "output_type": "execute_result"
    },
    {
     "data": {
      "image/png": "[encoded data removed]",
      "text/plain": [
       "<Figure size 1500x1200 with 2 Axes>"
      ]
     },
     "metadata": {},
     "output_type": "display_data"
    }
   ],
   "source": [
    "c = ( \"green\", \"cyan\", \"brown\",\"tomato\", \"pink\", \"orange\",'blue') \n",
    "\n",
    "theme = plt.get_cmap('hsv')\n",
    "plt.figure(figsize=(15,12))\n",
    "\n",
    "\n",
    "plt.subplot(1,2,1)\n",
    "plt.pie(province_rec['Total'],labels=None,autopct='%.2f%%',colors=c)\n",
    "plt.title('Province wise total voters')\n",
    "\n",
    "plt.subplot(1,2,2)\n",
    "plt.pie(province_rec['Male'],labels=None,autopct='%.2f%%',colors=c)\n",
    "plt.title('Province wise male voters')\n",
    "plt.legend(labels=province_rec.index,ncol=4,bbox_to_anchor=(0, 0))\n"
   ]
  },
  {
   "cell_type": "code",
   "execution_count": 68,
   "id": "69fc8af4-4cbc-4743-9226-8013d1c8ae7e",
   "metadata": {},
   "outputs": [
    {
     "data": {
      "text/plain": [
       "<matplotlib.legend.Legend at 0x7f8d93f946d0>"
      ]
     },
     "execution_count": 68,
     "metadata": {},
     "output_type": "execute_result"
    },
    {
     "data": {
      "image/png": "[encoded data removed]",
      "text/plain": [
       "<Figure size 1500x1200 with 2 Axes>"
      ]
     },
     "metadata": {},
     "output_type": "display_data"
    }
   ],
   "source": [
    "theme = plt.get_cmap('hsv')\n",
    "plt.figure(figsize=(15,12))\n",
    "\n",
    "plt.subplot(1,2,1)\n",
    "plt.pie(province_rec['Female'],labels=None,autopct='%.2f%%',colors=c)\n",
    "plt.title('Province wise female voters')\n",
    "\n",
    "plt.subplot(1,2,2)\n",
    "plt.pie(province_rec['Third Gender'],labels=None,autopct='%.2f%%',colors=c)\n",
    "plt.title('Province wise third gender voters')\n",
    "plt.legend(labels=province_rec.index,ncol=4,bbox_to_anchor=(0, 0))\n"
   ]
  },
  {
   "cell_type": "markdown",
   "id": "f7f28663-d850-4543-a939-05fea65d4822",
   "metadata": {},
   "source": [
    "## Constituencies overview"
   ]
  },
  {
   "cell_type": "code",
   "execution_count": 87,
   "id": "fac9f68c-1cc8-40ca-b91f-b73870692317",
   "metadata": {},
   "outputs": [],
   "source": [
    "# import os\n",
    "# print(\"Images of each category in train directory\")\n",
    "# for root, dirs, files in os.walk(\"dataset\"):\n",
    "#   print(f\"There are {len(files)} images in '{root}'.\")\n",
    "\n",
    "# print(\"\\nImages of each category in test directory\")\n",
    "# for root, dirs, files in os.walk(\"dataset\"):\n",
    "#   print(f\"There are {len(files)} images in '{root}'.\")"
   ]
  },
  {
   "cell_type": "code",
   "execution_count": 115,
   "id": "8713830c-2bad-4119-8c15-b39fd21f6fcd",
   "metadata": {},
   "outputs": [
    {
     "data": {
      "text/plain": [
       "['कास्की',\n",
       " 'गोरखा',\n",
       " 'तनहुँ',\n",
       " 'नवलपरासी (बर्दघाट सुस्ता पूर्व)',\n",
       " 'पर्वत',\n",
       " 'बागलुङ',\n",
       " 'मनाङ्ग',\n",
       " 'मुस्तांग',\n",
       " 'म्याग्दी',\n",
       " 'लमजुंग',\n",
       " 'स्याङ्जा']"
      ]
     },
     "execution_count": 115,
     "metadata": {},
     "output_type": "execute_result"
    }
   ],
   "source": [
    "#get array of labels\n",
    "import pathlib\n",
    "\n",
    "root_path = \"dataset/state/गण्डकी प्रदेश/\"\n",
    "root_dir = pathlib.Path(root_path)\n",
    "districts = list(sorted([item.name for item in root_dir.glob(\"*\")]))\n",
    "districts"
   ]
  },
  {
   "cell_type": "code",
   "execution_count": 121,
   "id": "c0da396b-7f52-461a-9f9a-85a6cb9ba975",
   "metadata": {},
   "outputs": [
    {
     "data": {
      "text/plain": [
       "{'कास्की': array(['१', '२', '३'], dtype='<U1'),\n",
       " 'गोरखा': array(['१', '२'], dtype='<U1'),\n",
       " 'तनहुँ': array(['१', '२'], dtype='<U1'),\n",
       " 'नवलपरासी (बर्दघाट सुस्ता पूर्व)': array(['१', '२'], dtype='<U1'),\n",
       " 'पर्वत': array(['१'], dtype='<U1'),\n",
       " 'बागलुङ': array(['१', '२'], dtype='<U1'),\n",
       " 'मनाङ्ग': array(['१'], dtype='<U1'),\n",
       " 'मुस्तांग': array(['१'], dtype='<U1'),\n",
       " 'म्याग्दी': array(['१'], dtype='<U1'),\n",
       " 'लमजुंग': array(['१'], dtype='<U1'),\n",
       " 'स्याङ्जा': array(['१', '२'], dtype='<U1')}"
      ]
     },
     "execution_count": 121,
     "metadata": {},
     "output_type": "execute_result"
    }
   ],
   "source": [
    "cons = {}\n",
    "for dis in districts:\n",
    "    data_dir = pathlib.Path(root_path+dis)\n",
    "    cons[dis] = np.array(sorted([item.name for item in data_dir.glob(\"*\") if item.name!=\".DS_Store\"]))\n",
    "    \n",
    "cons"
   ]
  },
  {
   "cell_type": "code",
   "execution_count": 136,
   "id": "5d8cd701-e2fd-4e93-a1b8-bff5a25ed806",
   "metadata": {},
   "outputs": [],
   "source": [
    "subs = {}\n",
    "for dis in districts:\n",
    "    subs[dis] = {}\n",
    "    for sub in cons[dis]:\n",
    "        data_dir = pathlib.Path(root_path+dis+\"/\"+sub)\n",
    "        files = list(sorted([item.name for item in data_dir.glob(\"*.csv\") if item.name!=\".DS_Store\"]))\n",
    "        subs[dis][sub] = [str(data_dir)+\"/\"+file for file in files]\n",
    "        "
   ]
  },
  {
   "cell_type": "code",
   "execution_count": 159,
   "id": "5e47cc07-d594-4d33-b6df-eace21bd1d75",
   "metadata": {},
   "outputs": [
    {
     "name": "stdout",
     "output_type": "stream",
     "text": [
      "['SerialNo', 'StateID', 'CandidateName', 'Gender', 'Age', 'PoliticalPartyName', 'DistrictName', 'CenterConstID', 'SCConstID', 'TotalVotesReceived', 'EStatus', 'Rank']\n"
     ]
    }
   ],
   "source": [
    "col_names = []\n",
    "col_names = list(pd.read_csv(\"dataset/state/गण्डकी प्रदेश/कास्की/१/क.csv\", nrows=0)) + ['SubCons']\n",
    "print(col_names)"
   ]
  },
  {
   "cell_type": "code",
   "execution_count": 155,
   "id": "a6d23038-2946-4994-a0d1-7bf9f70fa16f",
   "metadata": {},
   "outputs": [
    {
     "data": {
      "text/plain": [
       "'a'"
      ]
     },
     "execution_count": 155,
     "metadata": {},
     "output_type": "execute_result"
    }
   ],
   "source": [
    "a  = {'a':1}\n",
    "list(a.keys())[0]"
   ]
  },
  {
   "cell_type": "code",
   "execution_count": 211,
   "id": "0390510c-3755-40fc-9383-a86e100005c2",
   "metadata": {},
   "outputs": [
    {
     "data": {
      "text/html": [
       "<div>\n",
       "<style scoped>\n",
       "    .dataframe tbody tr th:only-of-type {\n",
       "        vertical-align: middle;\n",
       "    }\n",
       "\n",
       "    .dataframe tbody tr th {\n",
       "        vertical-align: top;\n",
       "    }\n",
       "\n",
       "    .dataframe thead th {\n",
       "        text-align: right;\n",
       "    }\n",
       "</style>\n",
       "<table border=\"1\" class=\"dataframe\">\n",
       "  <thead>\n",
       "    <tr style=\"text-align: right;\">\n",
       "      <th></th>\n",
       "      <th>SerialNo</th>\n",
       "      <th>StateID</th>\n",
       "      <th>CandidateName</th>\n",
       "      <th>Gender</th>\n",
       "      <th>Age</th>\n",
       "      <th>PoliticalPartyName</th>\n",
       "      <th>DistrictName</th>\n",
       "      <th>CenterConstID</th>\n",
       "      <th>SCConstID</th>\n",
       "      <th>TotalVotesReceived</th>\n",
       "      <th>EStatus</th>\n",
       "      <th>Rank</th>\n",
       "    </tr>\n",
       "  </thead>\n",
       "  <tbody>\n",
       "  </tbody>\n",
       "</table>\n",
       "</div>"
      ],
      "text/plain": [
       "Empty DataFrame\n",
       "Columns: [SerialNo, StateID, CandidateName, Gender, Age, PoliticalPartyName, DistrictName, CenterConstID, SCConstID, TotalVotesReceived, EStatus, Rank]\n",
       "Index: []"
      ]
     },
     "execution_count": 219,
     "metadata": {},
     "output_type": "execute_result"
    }
   ],
   "source": []
  },
  {
   "cell_type": "code",
   "execution_count": 302,
   "id": "fd5b4174-8969-4362-bcbc-3bd419644bf9",
   "metadata": {},
   "outputs": [],
   "source": [
    "state_main = pd.DataFrame(columns = col_names)\n",
    "\n",
    "for con in subs:\n",
    "    i = 0\n",
    "    for sub in subs[con]:\n",
    "        i+=1\n",
    "        for x in subs[con][sub]:\n",
    "            df = pd.read_csv(x)\n",
    "            df['DistrictName'] = con\n",
    "            df['CenterConstID'] = int(i)\n",
    "            df['CenterConstID'] = df['CenterConstID'].astype(str).astype(int)\n",
    "            df['SubCons'] = x[-5:-4]\n",
    "            state_main = pd.concat([state_main, df], axis=0)\n",
    "        "
   ]
  },
  {
   "cell_type": "code",
   "execution_count": 303,
   "id": "0882c7a5-2e46-4d15-8795-9691a805ec6b",
   "metadata": {},
   "outputs": [],
   "source": [
    "state_main.drop(['SerialNo', 'StateID'], axis=1, inplace=True)"
   ]
  },
  {
   "cell_type": "code",
   "execution_count": 304,
   "id": "c16e0cb5-bc9f-435e-b5f6-37a707eca4a0",
   "metadata": {},
   "outputs": [
    {
     "data": {
      "text/html": [
       "<div>\n",
       "<style scoped>\n",
       "    .dataframe tbody tr th:only-of-type {\n",
       "        vertical-align: middle;\n",
       "    }\n",
       "\n",
       "    .dataframe tbody tr th {\n",
       "        vertical-align: top;\n",
       "    }\n",
       "\n",
       "    .dataframe thead th {\n",
       "        text-align: right;\n",
       "    }\n",
       "</style>\n",
       "<table border=\"1\" class=\"dataframe\">\n",
       "  <thead>\n",
       "    <tr style=\"text-align: right;\">\n",
       "      <th></th>\n",
       "      <th>CandidateName</th>\n",
       "      <th>Gender</th>\n",
       "      <th>Age</th>\n",
       "      <th>PoliticalPartyName</th>\n",
       "      <th>DistrictName</th>\n",
       "      <th>CenterConstID</th>\n",
       "      <th>SCConstID</th>\n",
       "      <th>TotalVotesReceived</th>\n",
       "      <th>EStatus</th>\n",
       "      <th>Rank</th>\n",
       "      <th>SubCons</th>\n",
       "    </tr>\n",
       "  </thead>\n",
       "  <tbody>\n",
       "    <tr>\n",
       "      <th>0</th>\n",
       "      <td>दिपक कोइराला</td>\n",
       "      <td>पुरुष</td>\n",
       "      <td>39</td>\n",
       "      <td>नेपाल कम्युनिष्ट पार्टी (माओवादी केन्द्र)</td>\n",
       "      <td>कास्की</td>\n",
       "      <td>1</td>\n",
       "      <td>1</td>\n",
       "      <td>18727</td>\n",
       "      <td>Elected</td>\n",
       "      <td>1</td>\n",
       "      <td>क</td>\n",
       "    </tr>\n",
       "    <tr>\n",
       "      <th>1</th>\n",
       "      <td>जीवन परियार</td>\n",
       "      <td>पुरुष</td>\n",
       "      <td>42</td>\n",
       "      <td>नेपाली काँग्रेस</td>\n",
       "      <td>कास्की</td>\n",
       "      <td>1</td>\n",
       "      <td>1</td>\n",
       "      <td>15081</td>\n",
       "      <td>NaN</td>\n",
       "      <td>2</td>\n",
       "      <td>क</td>\n",
       "    </tr>\n",
       "    <tr>\n",
       "      <th>2</th>\n",
       "      <td>देउ बहादुर गुरुङ्ग</td>\n",
       "      <td>पुरुष</td>\n",
       "      <td>43</td>\n",
       "      <td>राष्ट्रिय प्रजातन्त्र पार्टी</td>\n",
       "      <td>कास्की</td>\n",
       "      <td>1</td>\n",
       "      <td>1</td>\n",
       "      <td>697</td>\n",
       "      <td>NaN</td>\n",
       "      <td>3</td>\n",
       "      <td>क</td>\n",
       "    </tr>\n",
       "    <tr>\n",
       "      <th>3</th>\n",
       "      <td>नवराज खनाल</td>\n",
       "      <td>पुरुष</td>\n",
       "      <td>34</td>\n",
       "      <td>विवेकशील साझा पार्टी</td>\n",
       "      <td>कास्की</td>\n",
       "      <td>1</td>\n",
       "      <td>1</td>\n",
       "      <td>475</td>\n",
       "      <td>NaN</td>\n",
       "      <td>4</td>\n",
       "      <td>क</td>\n",
       "    </tr>\n",
       "    <tr>\n",
       "      <th>4</th>\n",
       "      <td>विर बहादुर गुरुङ्ग</td>\n",
       "      <td>पुरुष</td>\n",
       "      <td>57</td>\n",
       "      <td>संघीय समाजवादी फोरम नेपाल</td>\n",
       "      <td>कास्की</td>\n",
       "      <td>1</td>\n",
       "      <td>1</td>\n",
       "      <td>463</td>\n",
       "      <td>NaN</td>\n",
       "      <td>5</td>\n",
       "      <td>क</td>\n",
       "    </tr>\n",
       "    <tr>\n",
       "      <th>...</th>\n",
       "      <td>...</td>\n",
       "      <td>...</td>\n",
       "      <td>...</td>\n",
       "      <td>...</td>\n",
       "      <td>...</td>\n",
       "      <td>...</td>\n",
       "      <td>...</td>\n",
       "      <td>...</td>\n",
       "      <td>...</td>\n",
       "      <td>...</td>\n",
       "      <td>...</td>\n",
       "    </tr>\n",
       "    <tr>\n",
       "      <th>0</th>\n",
       "      <td>भगवत प्रकाश मल्ल</td>\n",
       "      <td>पुरुष</td>\n",
       "      <td>41</td>\n",
       "      <td>नेपाली काँग्रेस</td>\n",
       "      <td>स्याङ्जा</td>\n",
       "      <td>2</td>\n",
       "      <td>2</td>\n",
       "      <td>19170</td>\n",
       "      <td>Elected</td>\n",
       "      <td>1.0</td>\n",
       "      <td>ख</td>\n",
       "    </tr>\n",
       "    <tr>\n",
       "      <th>1</th>\n",
       "      <td>सुर्य प्रसाद गैह्रे</td>\n",
       "      <td>पुरुष</td>\n",
       "      <td>31</td>\n",
       "      <td>नेपाल कम्युनिष्ट पार्टी (माओवादी केन्द्र)</td>\n",
       "      <td>स्याङ्जा</td>\n",
       "      <td>2</td>\n",
       "      <td>2</td>\n",
       "      <td>17630</td>\n",
       "      <td>NaN</td>\n",
       "      <td>NaN</td>\n",
       "      <td>ख</td>\n",
       "    </tr>\n",
       "    <tr>\n",
       "      <th>2</th>\n",
       "      <td>बम बहादुर लामिछाने</td>\n",
       "      <td>पुरुष</td>\n",
       "      <td>44</td>\n",
       "      <td>राष्ट्रिय जनमुक्ति पार्टी</td>\n",
       "      <td>स्याङ्जा</td>\n",
       "      <td>2</td>\n",
       "      <td>2</td>\n",
       "      <td>609</td>\n",
       "      <td>NaN</td>\n",
       "      <td>3.0</td>\n",
       "      <td>ख</td>\n",
       "    </tr>\n",
       "    <tr>\n",
       "      <th>3</th>\n",
       "      <td>रुद्र बहादुर खत्री क्षेत्री</td>\n",
       "      <td>पुरुष</td>\n",
       "      <td>52</td>\n",
       "      <td>राष्ट्रिय प्रजातन्त्र पार्टी</td>\n",
       "      <td>स्याङ्जा</td>\n",
       "      <td>2</td>\n",
       "      <td>2</td>\n",
       "      <td>96</td>\n",
       "      <td>NaN</td>\n",
       "      <td>4.0</td>\n",
       "      <td>ख</td>\n",
       "    </tr>\n",
       "    <tr>\n",
       "      <th>4</th>\n",
       "      <td>भरत पाठक</td>\n",
       "      <td>पुरुष</td>\n",
       "      <td>53</td>\n",
       "      <td>नयाँ शक्ति पार्टी नेपाल</td>\n",
       "      <td>स्याङ्जा</td>\n",
       "      <td>2</td>\n",
       "      <td>2</td>\n",
       "      <td>94</td>\n",
       "      <td>NaN</td>\n",
       "      <td>5.0</td>\n",
       "      <td>ख</td>\n",
       "    </tr>\n",
       "  </tbody>\n",
       "</table>\n",
       "<p>252 rows × 11 columns</p>\n",
       "</div>"
      ],
      "text/plain": [
       "                  CandidateName Gender Age  \\\n",
       "0                  दिपक कोइराला  पुरुष  39   \n",
       "1                   जीवन परियार  पुरुष  42   \n",
       "2            देउ बहादुर गुरुङ्ग  पुरुष  43   \n",
       "3                    नवराज खनाल  पुरुष  34   \n",
       "4            विर बहादुर गुरुङ्ग  पुरुष  57   \n",
       "..                          ...    ...  ..   \n",
       "0              भगवत प्रकाश मल्ल  पुरुष  41   \n",
       "1           सुर्य प्रसाद गैह्रे  पुरुष  31   \n",
       "2            बम बहादुर लामिछाने  पुरुष  44   \n",
       "3   रुद्र बहादुर खत्री क्षेत्री  पुरुष  52   \n",
       "4                      भरत पाठक  पुरुष  53   \n",
       "\n",
       "                           PoliticalPartyName DistrictName CenterConstID  \\\n",
       "0   नेपाल कम्युनिष्ट पार्टी (माओवादी केन्द्र)       कास्की             1   \n",
       "1                             नेपाली काँग्रेस       कास्की             1   \n",
       "2                राष्ट्रिय प्रजातन्त्र पार्टी       कास्की             1   \n",
       "3                        विवेकशील साझा पार्टी       कास्की             1   \n",
       "4                   संघीय समाजवादी फोरम नेपाल       कास्की             1   \n",
       "..                                        ...          ...           ...   \n",
       "0                             नेपाली काँग्रेस     स्याङ्जा             2   \n",
       "1   नेपाल कम्युनिष्ट पार्टी (माओवादी केन्द्र)     स्याङ्जा             2   \n",
       "2                   राष्ट्रिय जनमुक्ति पार्टी     स्याङ्जा             2   \n",
       "3                राष्ट्रिय प्रजातन्त्र पार्टी     स्याङ्जा             2   \n",
       "4                     नयाँ शक्ति पार्टी नेपाल     स्याङ्जा             2   \n",
       "\n",
       "   SCConstID TotalVotesReceived  EStatus Rank SubCons  \n",
       "0          1              18727  Elected    1       क  \n",
       "1          1              15081      NaN    2       क  \n",
       "2          1                697      NaN    3       क  \n",
       "3          1                475      NaN    4       क  \n",
       "4          1                463      NaN    5       क  \n",
       "..       ...                ...      ...  ...     ...  \n",
       "0          2              19170  Elected  1.0       ख  \n",
       "1          2              17630      NaN  NaN       ख  \n",
       "2          2                609      NaN  3.0       ख  \n",
       "3          2                 96      NaN  4.0       ख  \n",
       "4          2                 94      NaN  5.0       ख  \n",
       "\n",
       "[252 rows x 11 columns]"
      ]
     },
     "execution_count": 304,
     "metadata": {},
     "output_type": "execute_result"
    }
   ],
   "source": [
    "state_main"
   ]
  },
  {
   "cell_type": "code",
   "execution_count": 305,
   "id": "c5858465-10c1-418b-9fdf-c01a57fb93ef",
   "metadata": {},
   "outputs": [
    {
     "name": "stdout",
     "output_type": "stream",
     "text": [
      "<class 'pandas.core.frame.DataFrame'>\n",
      "Int64Index: 252 entries, 0 to 4\n",
      "Data columns (total 11 columns):\n",
      " #   Column              Non-Null Count  Dtype \n",
      "---  ------              --------------  ----- \n",
      " 0   CandidateName       252 non-null    object\n",
      " 1   Gender              251 non-null    object\n",
      " 2   Age                 248 non-null    object\n",
      " 3   PoliticalPartyName  251 non-null    object\n",
      " 4   DistrictName        252 non-null    object\n",
      " 5   CenterConstID       252 non-null    object\n",
      " 6   SCConstID           251 non-null    object\n",
      " 7   TotalVotesReceived  250 non-null    object\n",
      " 8   EStatus             38 non-null     object\n",
      " 9   Rank                244 non-null    object\n",
      " 10  SubCons             252 non-null    object\n",
      "dtypes: object(11)\n",
      "memory usage: 23.6+ KB\n"
     ]
    }
   ],
   "source": [
    "state_main.info()"
   ]
  },
  {
   "cell_type": "code",
   "execution_count": 306,
   "id": "41b9a9ba-fc0c-4e0d-974f-6b5148ac8086",
   "metadata": {},
   "outputs": [
    {
     "data": {
      "text/plain": [
       "array(['नेपाल कम्युनिष्ट पार्टी (माओवादी केन्द्र)', 'नेपाली काँग्रेस',\n",
       "       'राष्ट्रिय प्रजातन्त्र पार्टी', 'विवेकशील साझा पार्टी',\n",
       "       'संघीय समाजवादी फोरम नेपाल',\n",
       "       'राष्ट्रिय प्रजातन्त्र पार्टी (प्रजातान्त्रिक)',\n",
       "       'नयाँ शक्ति पार्टी नेपाल', 'राष्ट्रिय जनमोर्चा',\n",
       "       'देशभक्त जनगणतान्त्रिक मोर्चा नेपाल', 'मंगोल नेशनल अर्गनाइजेसन',\n",
       "       'राष्ट्रिय जनमुक्ति पार्टी', 'नेपाल दलित पार्टी',\n",
       "       'नेपाल कम्युनिष्ट पार्टी (एमाले)', '?',\n",
       "       'आमूल परिवर्तन मसिहा पार्टी नेपाल', ' WRC', 'स्वतन्त्र',\n",
       "       'जनसमाजवादी पार्टी नेपाल',\n",
       "       'एकीकृत राष्ट्रिय प्रजातन्त्र पार्टी(राष्ट्रवादी)',\n",
       "       'नेपाल कम्युनिष्ट पार्टी (माले) ', ' WRC Sangathan',\n",
       "       'राष्ट्रिय शिवसेना पार्टी ', 'नयाँ शक्ति पार्टी', nan, 'wrc दल '],\n",
       "      dtype=object)"
      ]
     },
     "execution_count": 306,
     "metadata": {},
     "output_type": "execute_result"
    }
   ],
   "source": [
    "parties = state_main['PoliticalPartyName'].unique()\n",
    "parties"
   ]
  },
  {
   "cell_type": "code",
   "execution_count": 307,
   "id": "bf9eb235-9e6b-4876-be45-d482bb29fd8c",
   "metadata": {},
   "outputs": [],
   "source": [
    "dirty = [\" WRC\", \"?\", \"wrc दल \"]"
   ]
  },
  {
   "cell_type": "markdown",
   "id": "07a5058c-7efd-4cd7-bc32-b7fec3e19b36",
   "metadata": {},
   "source": [
    "Unknown and outliers parties name does't have good result, so they can be dropped"
   ]
  },
  {
   "cell_type": "code",
   "execution_count": 308,
   "id": "a1fc8117-404c-46ec-a651-cc37a6a4c203",
   "metadata": {},
   "outputs": [],
   "source": [
    "for d in dirty:\n",
    "    i = (state_main.loc[state_main['PoliticalPartyName']==d]).index\n",
    "    state_main.drop(index=i,inplace=True)\n",
    "\n",
    "state_main['PoliticalPartyName'].dropna(inplace=True)\n",
    "state_main['EStatus'] = state_main['EStatus'].fillna(False)"
   ]
  },
  {
   "cell_type": "code",
   "execution_count": 310,
   "id": "bcb3981e-b49a-4466-8f95-bdc8086ab595",
   "metadata": {},
   "outputs": [],
   "source": [
    "d\n",
    "state_main.dropna(subset = ['PoliticalPartyName'],inplace=True)"
   ]
  },
  {
   "cell_type": "code",
   "execution_count": 311,
   "id": "98c447c2-4118-42e5-9e82-424de02faf2d",
   "metadata": {},
   "outputs": [
    {
     "data": {
      "text/plain": [
       "array(['नेपाल कम्युनिष्ट पार्टी (माओवादी केन्द्र)', 'नेपाली काँग्रेस',\n",
       "       'राष्ट्रिय प्रजातन्त्र पार्टी', 'विवेकशील साझा पार्टी',\n",
       "       'संघीय समाजवादी फोरम नेपाल', 'राष्ट्रिय जनमोर्चा',\n",
       "       'देशभक्त जनगणतान्त्रिक मोर्चा नेपाल', 'मंगोल नेशनल अर्गनाइजेसन',\n",
       "       'राष्ट्रिय जनमुक्ति पार्टी', 'नेपाल दलित पार्टी',\n",
       "       'नेपाल कम्युनिष्ट पार्टी (एमाले)', 'नयाँ शक्ति पार्टी नेपाल',\n",
       "       'स्वतन्त्र', 'राष्ट्रिय प्रजातन्त्र पार्टी (प्रजातान्त्रिक)',\n",
       "       'जनसमाजवादी पार्टी नेपाल', 'आमूल परिवर्तन मसिहा पार्टी नेपाल',\n",
       "       'एकीकृत राष्ट्रिय प्रजातन्त्र पार्टी(राष्ट्रवादी)',\n",
       "       'नेपाल कम्युनिष्ट पार्टी (माले) ', 'राष्ट्रिय शिवसेना पार्टी ',\n",
       "       nan], dtype=object)"
      ]
     },
     "execution_count": 311,
     "metadata": {},
     "output_type": "execute_result"
    }
   ],
   "source": [
    "parties = state_main['PoliticalPartyName'].unique()\n",
    "parties"
   ]
  },
  {
   "cell_type": "code",
   "execution_count": 294,
   "id": "98b38001-e569-4d2d-9a6a-ba8102030765",
   "metadata": {},
   "outputs": [
    {
     "data": {
      "text/plain": [
       "CandidateName         0\n",
       "Gender                1\n",
       "Age                   4\n",
       "PoliticalPartyName    1\n",
       "DistrictName          0\n",
       "CenterConstID         0\n",
       "SCConstID             0\n",
       "TotalVotesReceived    0\n",
       "EStatus               0\n",
       "Rank                  4\n",
       "SubCons               0\n",
       "dtype: int64"
      ]
     },
     "execution_count": 294,
     "metadata": {},
     "output_type": "execute_result"
    }
   ],
   "source": [
    "state_main.isna().sum()"
   ]
  },
  {
   "cell_type": "code",
   "execution_count": null,
   "id": "ed63cc17-a6c2-4cc3-9f4b-cb3f96cda831",
   "metadata": {},
   "outputs": [],
   "source": []
  }
 ],
 "metadata": {
  "kernelspec": {
   "display_name": "Python 3 (ipykernel)",
   "language": "python",
   "name": "python3"
  },
  "language_info": {
   "codemirror_mode": {
    "name": "ipython",
    "version": 3
   },
   "file_extension": ".py",
   "mimetype": "text/x-python",
   "name": "python",
   "nbconvert_exporter": "python",
   "pygments_lexer": "ipython3",
   "version": "3.10.8"
  }
 },
 "nbformat": 4,
 "nbformat_minor": 5
}
